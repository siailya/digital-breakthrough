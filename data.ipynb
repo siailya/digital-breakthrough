{
 "cells": [
  {
   "cell_type": "code",
   "execution_count": 1,
   "metadata": {},
   "outputs": [],
   "source": [
    "import pandas as pd\n",
    "from gensim import utils\n",
    "from gensim.models import FastText\n",
    "from razdel import tokenize\n",
    "from huggingface_hub import hf_hub_download\n",
    "import fasttext\n",
    "from sklearn.metrics.pairwise import cosine_similarity\n",
    "import numpy as np\n",
    "from tqdm import tqdm"
   ]
  },
  {
   "cell_type": "code",
   "execution_count": 2,
   "metadata": {},
   "outputs": [],
   "source": [
    "data = pd.read_csv(\"./train_dataset_Датасет/datasets/dataset_1.csv\")\n",
    "\n",
    "for i in range(1, 5):\n",
    "    new_data = pd.read_csv(f\"./train_dataset_Датасет/datasets/dataset_{i}.csv\")\n",
    "    data = pd.concat([data, new_data])"
   ]
  },
  {
   "cell_type": "code",
   "execution_count": 4,
   "metadata": {},
   "outputs": [],
   "source": [
    "model = FastText.load('fasttext.model')"
   ]
  },
  {
   "cell_type": "code",
   "execution_count": 37,
   "metadata": {},
   "outputs": [
    {
     "data": {
      "text/plain": [
       "(8, 120)"
      ]
     },
     "execution_count": 37,
     "metadata": {},
     "output_type": "execute_result"
    }
   ],
   "source": [
    "class MyIter:\n",
    "    def __iter__(self):\n",
    "        for index, row in building.iterrows():\n",
    "            tokens = list(tokenize(row[\"address1\"]))\n",
    "            yield [_.text for _ in tokens]    \n",
    "\n",
    "model = FastText(vector_size=128, window=5, min_count=1, workers=30, sg=1, negative=10)\n",
    "model.build_vocab(corpus_iterable=MyIter())\n",
    "total_examples = model.corpus_count\n",
    "model.train(corpus_iterable=MyIter(), total_examples=len(building), epochs=20)"
   ]
  },
  {
   "cell_type": "code",
   "execution_count": 5,
   "metadata": {},
   "outputs": [],
   "source": [
    "model = FastText.load('fasttext.model')\n",
    "vector = np.array(model.wv.vectors_vocab)"
   ]
  },
  {
   "cell_type": "code",
   "execution_count": null,
   "metadata": {},
   "outputs": [],
   "source": []
  },
  {
   "cell_type": "code",
   "execution_count": 6,
   "metadata": {},
   "outputs": [],
   "source": [
    "keys = model.wv.key_to_index\n",
    "a = np.array(list(keys.keys()))"
   ]
  },
  {
   "cell_type": "code",
   "execution_count": 7,
   "metadata": {},
   "outputs": [],
   "source": [
    "a = a.reshape(-1,1)"
   ]
  },
  {
   "cell_type": "code",
   "execution_count": 144,
   "metadata": {},
   "outputs": [],
   "source": [
    "data = np.concatenate((a, vector), axis = 1)\n"
   ]
  },
  {
   "cell_type": "code",
   "execution_count": 9,
   "metadata": {},
   "outputs": [
    {
     "data": {
      "text/html": [
       "<div>\n",
       "<style scoped>\n",
       "    .dataframe tbody tr th:only-of-type {\n",
       "        vertical-align: middle;\n",
       "    }\n",
       "\n",
       "    .dataframe tbody tr th {\n",
       "        vertical-align: top;\n",
       "    }\n",
       "\n",
       "    .dataframe thead th {\n",
       "        text-align: right;\n",
       "    }\n",
       "</style>\n",
       "<table border=\"1\" class=\"dataframe\">\n",
       "  <thead>\n",
       "    <tr style=\"text-align: right;\">\n",
       "      <th></th>\n",
       "      <th>address1</th>\n",
       "      <th>address2</th>\n",
       "      <th>label</th>\n",
       "    </tr>\n",
       "  </thead>\n",
       "  <tbody>\n",
       "    <tr>\n",
       "      <th>0</th>\n",
       "      <td>kaka</td>\n",
       "      <td>pisy</td>\n",
       "      <td>1</td>\n",
       "    </tr>\n",
       "    <tr>\n",
       "      <th>1</th>\n",
       "      <td>хуй</td>\n",
       "      <td>Жопа</td>\n",
       "      <td>0</td>\n",
       "    </tr>\n",
       "    <tr>\n",
       "      <th>2</th>\n",
       "      <td>хуй</td>\n",
       "      <td>уйх</td>\n",
       "      <td>1</td>\n",
       "    </tr>\n",
       "  </tbody>\n",
       "</table>\n",
       "</div>"
      ],
      "text/plain": [
       "  address1 address2  label\n",
       "0     kaka     pisy      1\n",
       "1      хуй     Жопа      0\n",
       "2      хуй      уйх      1"
      ]
     },
     "execution_count": 9,
     "metadata": {},
     "output_type": "execute_result"
    }
   ],
   "source": [
    "building = pd.read_csv('./data/train.csv')\n",
    "building"
   ]
  },
  {
   "cell_type": "code",
   "execution_count": 10,
   "metadata": {},
   "outputs": [],
   "source": [
    "b1 = list(building['address1'])\n",
    "b2 = list(building['address2'])\n",
    "vec1 = np.zeros((len(b1), 128))\n",
    "vec2 = np.zeros((len(b2), 128))"
   ]
  },
  {
   "cell_type": "code",
   "execution_count": 12,
   "metadata": {},
   "outputs": [],
   "source": [
    "for i in range(len(b1)):\n",
    "    vec1[i] = model.wv.get_vector(b1[i])\n",
    "    vec2[i] = model.wv.get_vector(b2[i])"
   ]
  },
  {
   "cell_type": "code",
   "execution_count": 13,
   "metadata": {},
   "outputs": [],
   "source": [
    "import pandas as pd\n",
    "import torch\n",
    "from torch.utils.data import Dataset, DataLoader"
   ]
  },
  {
   "cell_type": "code",
   "execution_count": 14,
   "metadata": {},
   "outputs": [],
   "source": [
    "class CustomTextDataset(Dataset):\n",
    "    def __init__(self, x, y, labels):\n",
    "        self.labels = labels\n",
    "        self.x= x\n",
    "        self.y = y\n",
    "    def __len__(self):\n",
    "        return len(self.labels)\n",
    "    def __getitem__(self, idx):\n",
    "        label = self.labels[idx]\n",
    "        address1 = self.x[idx]\n",
    "        address2 = self.y[idx]\n",
    "        sample = {\"address1\": address1, \"address2\": address2, \"label\": label}\n",
    "        return sample"
   ]
  },
  {
   "cell_type": "code",
   "execution_count": 15,
   "metadata": {},
   "outputs": [],
   "source": [
    "vec1, vec2, labels = torch.tensor(vec1), torch.tensor(vec2), torch.tensor(building['label'])"
   ]
  },
  {
   "cell_type": "code",
   "execution_count": 16,
   "metadata": {},
   "outputs": [
    {
     "data": {
      "text/plain": [
       "torch.Size([3])"
      ]
     },
     "execution_count": 16,
     "metadata": {},
     "output_type": "execute_result"
    }
   ],
   "source": [
    "labels.shape"
   ]
  },
  {
   "cell_type": "code",
   "execution_count": 17,
   "metadata": {},
   "outputs": [],
   "source": [
    "d = CustomTextDataset(vec1, vec2, building['label'])"
   ]
  },
  {
   "cell_type": "code",
   "execution_count": 23,
   "metadata": {},
   "outputs": [
    {
     "name": "stdout",
     "output_type": "stream",
     "text": [
      "x:  torch.Size([128])\n",
      "y:  torch.Size([128]) \n",
      "\n",
      "Class data:  1 \n",
      "\n",
      "x:  torch.Size([128])\n",
      "y:  torch.Size([128]) \n",
      "\n",
      "Class data:  0 \n",
      "\n",
      "x:  torch.Size([128])\n",
      "y:  torch.Size([128]) \n",
      "\n",
      "Class data:  1 \n",
      "\n"
     ]
    }
   ],
   "source": [
    "for i  in range(len(d)):\n",
    "    # Print the 'text' data of the batch\n",
    "    print('x: ', d[i]['address1'].shape)\n",
    "    # Print the 'class' data of batch\n",
    "    print('y: ', d[i]['address2'].shape, '\\n')\n",
    "    print('Class data: ', d[i]['label'], '\\n')"
   ]
  },
  {
   "cell_type": "code",
   "execution_count": 107,
   "metadata": {},
   "outputs": [],
   "source": [
    "df.to_pickle(\"my_data.bin\")"
   ]
  },
  {
   "cell_type": "code",
   "execution_count": 4,
   "metadata": {},
   "outputs": [],
   "source": [
    "model =  FastText(vector_size=128, window=5, min_count=1, workers=30, sg=1, negative=10)"
   ]
  },
  {
   "cell_type": "code",
   "execution_count": 6,
   "metadata": {},
   "outputs": [],
   "source": [
    "model = FastText.load('fasttext.model')"
   ]
  },
  {
   "cell_type": "code",
   "execution_count": 7,
   "metadata": {},
   "outputs": [
    {
     "name": "stderr",
     "output_type": "stream",
     "text": [
      "0it [00:00, ?it/s]"
     ]
    },
    {
     "name": "stderr",
     "output_type": "stream",
     "text": [
      "166645it [00:47, 3496.10it/s]\n"
     ]
    }
   ],
   "source": [
    "vector_index = []\n",
    "\n",
    "for index, row in tqdm(building.iterrows()):\n",
    "    tokens = list(tokenize(row[\"short_address\"]))\n",
    "    tokens = [_.text for _ in tokens]\n",
    "    predict = np.array([model.wv[token] for token in tokens])\n",
    "    predict = np.mean(predict, axis=0)\n",
    "    predict = predict / np.linalg.norm(predict)\n",
    "    vector_index.append((row['id'], predict))"
   ]
  },
  {
   "cell_type": "code",
   "execution_count": 8,
   "metadata": {},
   "outputs": [],
   "source": [
    "def get_id(text):\n",
    "    vector = model.wv[text] \n",
    "    tokens = list(tokenize(text))\n",
    "    tokens = [_.text for _ in tokens]\n",
    "    vector = np.array([model.wv[token] for token in tokens])\n",
    "    vector = np.mean(vector, axis=0)\n",
    "    vector = vector / np.linalg.norm(vector).reshape(1, -1) \n",
    "    max_sym = -1\n",
    "    best_id = 0\n",
    "    step = 10000\n",
    "\n",
    "    for ind in range(0, len(vector_index), step):\n",
    "        vectors = np.array([i[1] for i in vector_index[ind: ind + step]]).T\n",
    "        syms = vector @ vectors\n",
    "        best_local_ind = np.argmax(syms)\n",
    "        sym = syms[0][best_local_ind]\n",
    "        if sym > max_sym:\n",
    "            max_sym = sym\n",
    "            best_id = vector_index[ind + best_local_ind][0]\n",
    "    return best_id, max_sym"
   ]
  },
  {
   "cell_type": "code",
   "execution_count": 9,
   "metadata": {},
   "outputs": [
    {
     "name": "stderr",
     "output_type": "stream",
     "text": [
      "999it [02:18,  7.21it/s]"
     ]
    },
    {
     "name": "stdout",
     "output_type": "stream",
     "text": [
      "0.396\n"
     ]
    },
    {
     "name": "stderr",
     "output_type": "stream",
     "text": [
      "\n"
     ]
    }
   ],
   "source": [
    "cnt = 0\n",
    "ind = 0\n",
    "for index, row in tqdm(data.iterrows()):\n",
    "    ind += 1\n",
    "    best_id, max_sym = get_id(row[\"address\"])\n",
    "    #print(best_id, row['target_building_id'])\n",
    "    if best_id == row['target_building_id']:\n",
    "        cnt += 1\n",
    "    if ind == 1000:\n",
    "        break\n",
    "print(cnt / 1000)"
   ]
  },
  {
   "cell_type": "code",
   "execution_count": null,
   "metadata": {},
   "outputs": [],
   "source": []
  },
  {
   "cell_type": "code",
   "execution_count": 184,
   "metadata": {},
   "outputs": [
    {
     "name": "stdout",
     "output_type": "stream",
     "text": [
      "0.236\n"
     ]
    }
   ],
   "source": [
    "print(cnt / 1000)"
   ]
  },
  {
   "cell_type": "code",
   "execution_count": 191,
   "metadata": {},
   "outputs": [],
   "source": [
    "model.save(\"fasttext.model\")"
   ]
  },
  {
   "cell_type": "code",
   "execution_count": 190,
   "metadata": {},
   "outputs": [
    {
     "name": "stdout",
     "output_type": "stream",
     "text": [
      "/work/hack\n"
     ]
    }
   ],
   "source": [
    "!pwd"
   ]
  },
  {
   "cell_type": "code",
   "execution_count": null,
   "metadata": {},
   "outputs": [],
   "source": []
  }
 ],
 "metadata": {
  "kernelspec": {
   "display_name": "base",
   "language": "python",
   "name": "python3"
  },
  "language_info": {
   "codemirror_mode": {
    "name": "ipython",
    "version": 3
   },
   "file_extension": ".py",
   "mimetype": "text/x-python",
   "name": "python",
   "nbconvert_exporter": "python",
   "pygments_lexer": "ipython3",
   "version": "3.10.9"
  },
  "orig_nbformat": 4
 },
 "nbformat": 4,
 "nbformat_minor": 2
}
