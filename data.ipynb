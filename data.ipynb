{
 "cells": [
  {
   "cell_type": "code",
   "execution_count": 117,
   "metadata": {},
   "outputs": [],
   "source": [
    "import pandas as pd\n",
    "from gensim import utils\n",
    "from gensim.models import FastText\n",
    "from razdel import tokenize\n",
    "from huggingface_hub import hf_hub_download\n",
    "import fasttext\n",
    "from sklearn.metrics.pairwise import cosine_similarity\n",
    "import numpy as np\n",
    "from tqdm import tqdm"
   ]
  },
  {
   "cell_type": "code",
   "execution_count": 118,
   "metadata": {},
   "outputs": [],
   "source": [
    "data = pd.read_csv(\"/work/hack/datasets/dataset_1.csv\")\n",
    "\n",
    "for i in range(1, 5):\n",
    "    new_data = pd.read_csv(f\"/work/hack/datasets/dataset_{i}.csv\")\n",
    "    data = pd.concat([data, new_data])"
   ]
  },
  {
   "cell_type": "code",
   "execution_count": 119,
   "metadata": {},
   "outputs": [
    {
     "name": "stderr",
     "output_type": "stream",
     "text": [
      "<ipython-input-119-cf27923f7be3>:1: DtypeWarning: Columns (4,6,7,14,15) have mixed types. Specify dtype option on import or set low_memory=False.\n",
      "  building = pd.read_csv(\"/work/hack/additional_data/building_20230808.csv\")\n"
     ]
    }
   ],
   "source": [
    "building = pd.read_csv(\"/work/hack/additional_data/building_20230808.csv\")"
   ]
  },
  {
   "cell_type": "code",
   "execution_count": 185,
   "metadata": {},
   "outputs": [
    {
     "data": {
      "text/plain": [
       "(18572982, 54069380)"
      ]
     },
     "execution_count": 185,
     "metadata": {},
     "output_type": "execute_result"
    }
   ],
   "source": [
    "class MyIter:\n",
    "    def __iter__(self):\n",
    "        for index, row in building.iterrows():\n",
    "            tokens = list(tokenize(row[\"short_address\"]))\n",
    "            yield [_.text for _ in tokens]    \n",
    "\n",
    "model = FastText(vector_size=128, window=5, min_count=1, workers=30, sg=1, negative=10)\n",
    "model.build_vocab(corpus_iterable=MyIter())\n",
    "total_examples = model.corpus_count\n",
    "model.train(corpus_iterable=MyIter(), total_examples=len(building), epochs=20)"
   ]
  },
  {
   "cell_type": "code",
   "execution_count": 186,
   "metadata": {},
   "outputs": [
    {
     "name": "stderr",
     "output_type": "stream",
     "text": [
      "166645it [00:42, 3947.23it/s]\n"
     ]
    }
   ],
   "source": [
    "vector_index = []\n",
    "\n",
    "for index, row in tqdm(building.iterrows()):\n",
    "    tokens = list(tokenize(row[\"short_address\"]))\n",
    "    tokens = [_.text for _ in tokens]\n",
    "    predict = np.array([model.wv[token] for token in tokens])\n",
    "    predict = np.mean(predict, axis=0)\n",
    "    predict = predict / np.linalg.norm(predict)\n",
    "    vector_index.append((row['id'], predict))"
   ]
  },
  {
   "cell_type": "code",
   "execution_count": 187,
   "metadata": {},
   "outputs": [],
   "source": [
    "def get_id(text):\n",
    "    vector = model.wv[text] \n",
    "    tokens = list(tokenize(text))\n",
    "    tokens = [_.text for _ in tokens]\n",
    "    vector = np.array([model.wv[token] for token in tokens])\n",
    "    vector = np.mean(vector, axis=0)\n",
    "    vector = vector / np.linalg.norm(vector).reshape(1, -1) \n",
    "    max_sym = -1\n",
    "    best_id = 0\n",
    "    step = 10000\n",
    "\n",
    "    for ind in range(0, len(vector_index), step):\n",
    "        vectors = np.array([i[1] for i in vector_index[ind: ind + step]]).T\n",
    "        syms = vector @ vectors\n",
    "        best_local_ind = np.argmax(syms)\n",
    "        sym = syms[0][best_local_ind]\n",
    "        if sym > max_sym:\n",
    "            max_sym = sym\n",
    "            best_id = vector_index[ind + best_local_ind][0]\n",
    "    return best_id, max_sym"
   ]
  },
  {
   "cell_type": "code",
   "execution_count": 188,
   "metadata": {},
   "outputs": [
    {
     "name": "stderr",
     "output_type": "stream",
     "text": [
      "999it [01:51,  8.97it/s]"
     ]
    },
    {
     "name": "stdout",
     "output_type": "stream",
     "text": [
      "0.396\n"
     ]
    },
    {
     "name": "stderr",
     "output_type": "stream",
     "text": [
      "\n"
     ]
    }
   ],
   "source": [
    "cnt = 0\n",
    "ind = 0\n",
    "for index, row in tqdm(data.iterrows()):\n",
    "    ind += 1\n",
    "    best_id, max_sym = get_id(row[\"address\"])\n",
    "    #print(best_id, row['target_building_id'])\n",
    "    if best_id == row['target_building_id']:\n",
    "        cnt += 1\n",
    "    if ind == 1000:\n",
    "        break\n",
    "print(cnt / 1000)"
   ]
  },
  {
   "cell_type": "code",
   "execution_count": 184,
   "metadata": {},
   "outputs": [
    {
     "name": "stdout",
     "output_type": "stream",
     "text": [
      "0.236\n"
     ]
    }
   ],
   "source": [
    "print(cnt / 1000)"
   ]
  },
  {
   "cell_type": "code",
   "execution_count": 191,
   "metadata": {},
   "outputs": [],
   "source": [
    "model.save(\"fasttext.model\")"
   ]
  },
  {
   "cell_type": "code",
   "execution_count": 190,
   "metadata": {},
   "outputs": [
    {
     "name": "stdout",
     "output_type": "stream",
     "text": [
      "/work/hack\n"
     ]
    }
   ],
   "source": [
    "!pwd"
   ]
  },
  {
   "cell_type": "code",
   "execution_count": null,
   "metadata": {},
   "outputs": [],
   "source": []
  }
 ],
 "metadata": {
  "kernelspec": {
   "display_name": "base",
   "language": "python",
   "name": "python3"
  },
  "language_info": {
   "codemirror_mode": {
    "name": "ipython",
    "version": 3
   },
   "file_extension": ".py",
   "mimetype": "text/x-python",
   "name": "python",
   "nbconvert_exporter": "python",
   "pygments_lexer": "ipython3",
   "version": "3.9.7"
  },
  "orig_nbformat": 4
 },
 "nbformat": 4,
 "nbformat_minor": 2
}
